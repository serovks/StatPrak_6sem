{
 "cells": [
  {
   "cell_type": "markdown",
   "metadata": {},
   "source": [
    "# Homework 1\n"
   ]
  },
  {
   "cell_type": "markdown",
   "metadata": {},
   "source": [
    "## Problem 1"
   ]
  },
  {
   "cell_type": "markdown",
   "metadata": {},
   "source": [
    "Make a tuple containing natural numbers, the square of which is a multiple of 3, 4, but not a multiple of 8 and not exceeding 12345."
   ]
  },
  {
   "cell_type": "code",
   "execution_count": 18,
   "metadata": {},
   "outputs": [
    {
     "data": {
      "text/plain": [
       "[6, 18, 30, 42, 54, 66, 78, 90, 102]"
      ]
     },
     "execution_count": 18,
     "metadata": {},
     "output_type": "execute_result"
    }
   ],
   "source": [
    "[x for x in range(int(12345 ** 0.5) + 1) if x ** 2 % 3 == 0 and x ** 2 % 4 == 0 and x ** 2 % 8 != 0]"
   ]
  },
  {
   "cell_type": "markdown",
   "metadata": {},
   "source": [
    "##  Problem 2\n"
   ]
  },
  {
   "cell_type": "markdown",
   "metadata": {},
   "source": [
    "\n",
    "Write a function that takes a two-dimensional array and a string as input and returns an array rotated 90 degrees counterclockwise if the string 'left' was passed, and clockwise if the string 'right' was passed.\n",
    "\n",
    "Example for input: $\\begin{bmatrix} 1 & 2 & 3 \\\\ 4 & 5 & 6 \\\\ 7 & 8 & 9 \\end{bmatrix}$.\\\n",
    "If the string 'left' is passed, the function should return $\\begin{bmatrix} 3 & 6 & 9 \\\\ 2 & 5 & 8 \\\\ 1 & 4 & 7 \\end{bmatrix}$, and if the string 'right' is passed, the function should return $\\begin{bmatrix} 7 & 4 & 1 \\\\ 8 & 5 & 2 \\\\ 9 & 6 & 3 \\end{bmatrix}$."
   ]
  },
  {
   "cell_type": "code",
   "execution_count": 30,
   "metadata": {},
   "outputs": [
    {
     "name": "stdout",
     "output_type": "stream",
     "text": [
      "[[3, 6, 9], [2, 5, 8], [1, 4, 7]]\n",
      "[[7, 4, 1], [8, 5, 2], [9, 6, 3]]\n"
     ]
    }
   ],
   "source": [
    "def rotation(matrix, direction):\n",
    "    return [[matrix[i][j] for i in range(len(matrix))] for j in range(len(matrix[0]) -1, -1, -1)] if direction == 'left' else [[matrix[i][j] for i in range(len(matrix)-1,-1,-1)] for j in range(len(matrix[0]))]\n",
    "\n",
    "matrix = [\n",
    "    [1,2,3],\n",
    "    [4,5,6],\n",
    "    [7,8,9]\n",
    "]\n",
    "\n",
    "print(rotation(matrix, \"left\"))\n",
    "print(rotation(matrix, \"right\"))\n"
   ]
  },
  {
   "cell_type": "markdown",
   "metadata": {},
   "source": [
    "## Problem 3"
   ]
  },
  {
   "cell_type": "markdown",
   "metadata": {},
   "source": [
    "Write a function that takes a string as input and returns a dictionary containing the number of occurrences of each character in the string.\n",
    "\n",
    "Example for the string 'hello, world!': {'h': 1, 'e': 1, 'l': 3, 'o': 2, ',': 1, ' ': 1, 'w': 1, 'r': 1, 'd': 1, '!': 1}."
   ]
  },
  {
   "cell_type": "code",
   "execution_count": 32,
   "metadata": {},
   "outputs": [
    {
     "name": "stdout",
     "output_type": "stream",
     "text": [
      "{'h': 1, 'e': 1, 'l': 3, 'o': 2, ',': 1, ' ': 1, 'w': 1, 'r': 1, 'd': 1, '!': 1}\n"
     ]
    }
   ],
   "source": [
    "def char_counter(str):\n",
    "  return {s: str.count(s) for s in str}\n",
    "\n",
    "print(char_counter('hello, world!'))"
   ]
  },
  {
   "cell_type": "markdown",
   "metadata": {},
   "source": [
    "## Problem 4"
   ]
  },
  {
   "cell_type": "markdown",
   "metadata": {},
   "source": [
    "### Implementing a Library Management System\n",
    "\n",
    "#### Description\n",
    "\n",
    "You are required to design and implement a system for managing books and users in a library. The system should allow for the management of books (adding, deleting, searching by various criteria) and users (registration, deletion, searching), as well as tracking the history of interactions between them (issuing and returning books).\n",
    "\n",
    "#### Tasks\n",
    "\n",
    "1. **`Book` Class**:\n",
    "   - Attributes: title, author, year of publication, ISBN, number of copies.\n",
    "   - Methods: constructor, methods to get information about the book, method to change the number of copies (when issuing and returning books).\n",
    "\n",
    "2. **`User` Class**:\n",
    "   - Attributes: user name, library card number, list of borrowed books.\n",
    "   - Methods: constructor, methods for user registration, methods for adding and removing books from the borrowed list.\n",
    "\n",
    "3. **`Library` Class**:\n",
    "   - Attributes: list of books, list of users, transaction history (who, when, which book was borrowed and returned).\n",
    "   - Methods: constructor, methods for adding and deleting books and users, methods for issuing and returning books, searching for books and users by various criteria, method to display the transaction history.\n",
    "\n",
    "#### Assignment\n",
    "\n",
    "1. Implement the `Book`, `User`, and `Library` classes with the specified attributes and methods.\n",
    "2. Create several books and users, and add them to the library system.\n",
    "3. Implement scenarios for issuing books to users and their return.\n",
    "4. Display the transaction history to show how books were issued and returned.\n"
   ]
  },
  {
   "cell_type": "code",
   "execution_count": 37,
   "metadata": {},
   "outputs": [
    {
     "name": "stdout",
     "output_type": "stream",
     "text": [
      "Book 'title2' borrowed by user1\n",
      "Book 'title2 cannot borrowed by user2 as out of stock\n",
      "Book 'title2' returned by user1 on title2\n"
     ]
    }
   ],
   "source": [
    "class Book:\n",
    "    def __init__(self, title, author, year, isbn, num_copies):\n",
    "        self.title = title\n",
    "        self.author = author\n",
    "        self.year = year\n",
    "        self.isbn = isbn\n",
    "        self.num_copies = num_copies\n",
    "    \n",
    "    def get_info(self):\n",
    "        return f\"Title: {self.title}, Author: {self.author}, Year: {self.year}, ISBN: {self.isbn}, Copies: {self.num_copies}\"\n",
    "    \n",
    "    def change_copies(self, num):\n",
    "        self.num_copies += num\n",
    "        if self.num_copies < 0:\n",
    "            self.num_copies = 0\n",
    "        return self.num_copies\n",
    "\n",
    "class User:\n",
    "    def __init__(self, name, card_number):\n",
    "        self.name = name\n",
    "        self.card_number = card_number\n",
    "        self.borrowed_books = []\n",
    "    \n",
    "    def register_user(self):\n",
    "        return f\"User {self.name} registered with card number {self.card_number}\"\n",
    "    \n",
    "    def borrow_book(self, book):\n",
    "        if book.num_copies > 0:\n",
    "            self.borrowed_books.append(book)\n",
    "            book.change_copies(-1)\n",
    "            return f\"Book '{book.title}' borrowed by {self.name}\"\n",
    "        else:\n",
    "            return f\"Book '{book.title} cannot borrowed by {self.name} as out of stock\"\n",
    "    \n",
    "    def return_book(self, book):\n",
    "        if book in self.borrowed_books:\n",
    "            self.borrowed_books.remove(book)\n",
    "            book.change_copies(1)\n",
    "            return f\"Book '{book.title}' returned by {self.name}\"\n",
    "        else:\n",
    "            return f\"{self.name} did not borrow '{book.title}'.\"\n",
    "    \n",
    "    def get_borrowed_books(self):\n",
    "        return [book.title for book in self.borrowed_books]\n",
    "\n",
    "class Library:\n",
    "    def __init__(self):\n",
    "        self.books = []\n",
    "        self.users = []\n",
    "        self.transaction_history = []\n",
    "    \n",
    "    def add_book(self, book):\n",
    "        self.books.append(book)\n",
    "        return f\"Book '{book.title}' added to the library.\"\n",
    "    \n",
    "    def remove_book(self, book):\n",
    "        if book in self.books:\n",
    "            self.books.remove(book)\n",
    "            return f\"Book '{book.title}' removed from the library.\"\n",
    "        return f\"Book '{book.title}' not found in the library.\"\n",
    "    \n",
    "    def add_user(self, user):\n",
    "        self.users.append(user)\n",
    "        return f\"User '{user.name}' added to the system.\"\n",
    "    \n",
    "    def remove_user(self, user):\n",
    "        if user in self.users:\n",
    "            self.users.remove(user)\n",
    "            return f\"User '{user.name}' removed from the system.\"\n",
    "        return f\"User '{user.name}' not found in the system.\"\n",
    "    \n",
    "    def issue_book(self, user, book):\n",
    "        if book in self.books and user in self.users:\n",
    "            transaction = user.borrow_book(book)\n",
    "            self.transaction_history.append(f\"{transaction}\")\n",
    "            return transaction\n",
    "        return \"Book or user not found in the system.\"\n",
    "    \n",
    "    def return_book(self, user, book):\n",
    "        if book in self.books and user in self.users:\n",
    "            transaction = user.return_book(book)\n",
    "            self.transaction_history.append(f\"{transaction} on {book.title}\")\n",
    "            return transaction\n",
    "        return \"Book or user not found in the system.\"\n",
    "    \n",
    "    def search_books_by_title(self, title):\n",
    "        return [book for book in self.books if title.lower() in book.title.lower()]\n",
    "    \n",
    "    def search_books_by_author(self, author):\n",
    "        return [book for book in self.books if author.lower() in book.author.lower()]\n",
    "    \n",
    "    def search_user_by_name(self, name):\n",
    "        return [user for user in self.users if name.lower() in user.name.lower()]\n",
    "    \n",
    "    def display_transaction_history(self):\n",
    "        for record in self.transaction_history:\n",
    "            print(record)\n",
    "\n",
    "\n",
    "library = Library()\n",
    "user1 = User(\"user1\", 1)\n",
    "user2 = User(\"user2\", 2)\n",
    "book1 = Book(\"title1\", \"author1\", 2025, \"12345\", 100)\n",
    "book2 = Book(\"title2\", \"author2\", 2025, \"54321\", 1)\n",
    "\n",
    "library.add_user(user1)\n",
    "library.add_user(user2)\n",
    "library.add_book(book1)\n",
    "library.add_book(book2)\n",
    "library.issue_book(user1, book2)\n",
    "library.issue_book(user2, book2)\n",
    "library.remove_user(user2)\n",
    "library.return_book(user1, book2)\n",
    "library.search_books_by_title(\"title1\")\n",
    "library.display_transaction_history()\n"
   ]
  },
  {
   "cell_type": "markdown",
   "metadata": {},
   "source": [
    "## Problem 5*\n"
   ]
  },
  {
   "cell_type": "markdown",
   "metadata": {},
   "source": [
    "Explain why list `b` changes after the execution of the following code:\n",
    "\n",
    "```python\n",
    "a = [1, 2, 3]\n",
    "b = a\n",
    "a[0] = 4\n",
    "print(b)\n",
    "```"
   ]
  },
  {
   "cell_type": "code",
   "execution_count": 33,
   "metadata": {},
   "outputs": [
    {
     "name": "stdout",
     "output_type": "stream",
     "text": [
      "[4, 2, 3]\n"
     ]
    }
   ],
   "source": [
    "a = [1, 2, 3]\n",
    "b = a\n",
    "a[0] = 4\n",
    "print(b)"
   ]
  },
  {
   "cell_type": "markdown",
   "metadata": {},
   "source": [
    "Потому что списки хранят ссылки на объет (указатели на элементы), а не сами объекты. Поэтому при изменении списка a будет меняться и список b."
   ]
  },
  {
   "cell_type": "markdown",
   "metadata": {},
   "source": [
    "## Problem 6*"
   ]
  },
  {
   "cell_type": "markdown",
   "metadata": {},
   "source": [
    "Let\n",
    "$$A = \\sum_{i=1}^{10000} \\frac{1}{i^2},\\quad B=\\sum_{i=10000}^{1} \\frac{1}{i^2}.$$\n",
    "Calculate the values of $A$ and $B$ and compare them. What do you observe? Explain why this happens. What is the best way to calculate the value of $\\sum\\limits_{i=1}^{10000} \\dfrac{1}{i^2}$?"
   ]
  },
  {
   "cell_type": "code",
   "execution_count": 34,
   "metadata": {},
   "outputs": [
    {
     "name": "stdout",
     "output_type": "stream",
     "text": [
      "False 1.6448340718480652 1.6448340718480596\n"
     ]
    }
   ],
   "source": [
    "A = sum(1/(i**2) for i in range(1, 10001))\n",
    "B = sum(1/(i**2) for i in range(10000, 0, -1))\n",
    "print(A == B, A, B)"
   ]
  },
  {
   "cell_type": "markdown",
   "metadata": {},
   "source": [
    "Сумма B будет отображать более точный результат, чем сумма A, потому что при прибавлении к большому числу маленькое, точность вычисления уменьшается из-за спицифики округления."
   ]
  }
 ],
 "metadata": {
  "kernelspec": {
   "display_name": "Python 3",
   "language": "python",
   "name": "python3"
  },
  "language_info": {
   "codemirror_mode": {
    "name": "ipython",
    "version": 3
   },
   "file_extension": ".py",
   "mimetype": "text/x-python",
   "name": "python",
   "nbconvert_exporter": "python",
   "pygments_lexer": "ipython3",
   "version": "3.11.2"
  }
 },
 "nbformat": 4,
 "nbformat_minor": 2
}
